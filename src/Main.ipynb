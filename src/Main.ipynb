{
 "cells": [
  {
   "cell_type": "markdown",
   "metadata": {},
   "source": [
    "# Blind Vision"
   ]
  },
  {
   "cell_type": "code",
   "execution_count": 5,
   "metadata": {},
   "outputs": [
    {
     "data": {
      "text/plain": [
       "<matplotlib.image.AxesImage at 0x2620ab470c8>"
      ]
     },
     "execution_count": 5,
     "metadata": {},
     "output_type": "execute_result"
    },
    {
     "data": {
      "image/png": "[encoded data removed]",
      "text/plain": [
       "<Figure size 432x288 with 1 Axes>"
      ]
     },
     "metadata": {
      "needs_background": "light"
     },
     "output_type": "display_data"
    }
   ],
   "source": [
    "import cv2\n",
    "import numpy as np\n",
    "import matplotlib.pyplot as plt\n",
    "\n",
    "# Read in the image\n",
    "img = cv2.imread('imgs/simple_straight.jpg', cv2.IMREAD_COLOR)\n",
    "\n",
    "# Convert to Grayscale\n",
    "gray = cv2.cvtColor(img, cv2.COLOR_BGR2GRAY)\n",
    "\n",
    "# Find edges with Canny Edge Detection\n",
    "edges = cv2.Canny(gray, 50, 200)\n",
    "\n",
    "# Detect points that form a line\n",
    "lines = cv2.HoughLines(image=edges, rho=1, theta=np.pi/180, threshold=100)\n",
    "\n",
    "# Loop through each line found by the Hough Line Transfrom\n",
    "for line in lines:\n",
    "    rho = line[0][0] # Extract the line's rho (distance from 0,0)\n",
    "    theta = line[0][1] # Extract the line's theta (rotation angle in radians) \n",
    "    \n",
    "    # Only add lines that are less than 90 degrees\n",
    "    if theta < 1.5:\n",
    "        # Calculate the points\n",
    "        a = np.cos(theta)\n",
    "        b = np.sin(theta)\n",
    "        x0 = a * rho\n",
    "        y0 = b * rho\n",
    "        x1 = int(x0 + 1000 * (-b))\n",
    "        y1 = int(y0 + 1000 * (a))\n",
    "        x2 = int(x0 - 1000 * (-b))\n",
    "        y2 = int(y0 - 1000 * (a))\n",
    "        point1 = (x1, y1)\n",
    "        point2 = (x2, y2)\n",
    "        # Draw lines between points\n",
    "        cv2.line(img, point1, point2, (255,0,0), 10)\n",
    "\n",
    "# Display the lines on the image\n",
    "plt.imshow(img)"
   ]
  },
  {
   "cell_type": "code",
   "execution_count": null,
   "metadata": {},
   "outputs": [],
   "source": []
  }
 ],
 "metadata": {
  "kernelspec": {
   "display_name": "Python 3",
   "language": "python",
   "name": "python3"
  },
  "language_info": {
   "codemirror_mode": {
    "name": "ipython",
    "version": 3
   },
   "file_extension": ".py",
   "mimetype": "text/x-python",
   "name": "python",
   "nbconvert_exporter": "python",
   "pygments_lexer": "ipython3",
   "version": "3.7.7"
  }
 },
 "nbformat": 4,
 "nbformat_minor": 4
}
